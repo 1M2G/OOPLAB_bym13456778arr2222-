{
 "cells": [
  {
   "cell_type": "code",
   "execution_count": 192,
   "metadata": {},
   "outputs": [],
   "source": [
    "class Vehicle:\n",
    "    def __init__(self,color):\n",
    "        self.color = color\n",
    "        \n",
    "    def getColor(self):\n",
    "        return self.color\n",
    "    \n",
    "    def toString(self):\n",
    "        return f'This vehicle is {self.color}'\n",
    "    \n",
    "\n",
    "\n",
    "        "
   ]
  },
  {
   "cell_type": "code",
   "execution_count": 194,
   "metadata": {},
   "outputs": [],
   "source": [
    "class Car(Vehicle):\n",
    "    def __init__(self,color,has_winter_tires = False):\n",
    "        super().__init__(color)\n",
    "        self.has_winter_tries = has_winter_tires\n",
    "        \n",
    "    def toString(self):\n",
    "        return super().toString() + f'\\n has winter tires:{self.has_winter_tries} '\n",
    "    \n",
    "        \n",
    "        "
   ]
  },
  {
   "cell_type": "code",
   "execution_count": 197,
   "metadata": {},
   "outputs": [],
   "source": [
    "class Truck(Vehicle):\n",
    "    def __init__(self, color, has_trailer =False):\n",
    "        super().__init__(color)\n",
    "        self.has_trailer = has_trailer\n",
    "        \n",
    "    def toString(self):\n",
    "        return super().toString() + f'has trailer: {self.has_trailer}'\n",
    "\n",
    "\n",
    "\n"
   ]
  },
  {
   "cell_type": "code",
   "execution_count": 200,
   "metadata": {},
   "outputs": [],
   "source": [
    "class Garage:\n",
    "    def __init__(self):\n",
    "        self.Vehicle_parked = None\n",
    "    \n",
    "    def set_vehicle(self, Vehicle_parked):\n",
    "        self.Vehicle_parked = Vehicle_parked\n",
    "        \n",
    "    def toString(self):\n",
    "        if self.Vehicle_parked:\n",
    "            return f\"The description of the parked vehicle:\\n {self.Vehicle_parked.toString()}\"\n",
    "        else:\n",
    "            return \"The Garage is empty\"\n",
    "\n"
   ]
  },
  {
   "cell_type": "code",
   "execution_count": 205,
   "metadata": {},
   "outputs": [
    {
     "name": "stdout",
     "output_type": "stream",
     "text": [
      "This vehicle is black\n",
      "\n",
      " has trailer: True\n",
      "\n",
      "The description of the parked vehicle:\n",
      " This vehicle is black\n",
      "\n",
      " has trailer: True\n"
     ]
    }
   ],
   "source": [
    "class GarageTester:\n",
    "    @staticmethod\n",
    "    def getExample(garage):\n",
    "        \n",
    "         # Testing for Truck class\n",
    "        truck1 = Truck('black', True)\n",
    "        print(truck1.toString())\n",
    "        print()\n",
    "     \n",
    "        # a Garage object\n",
    "        garage.set_vehicle(truck1)\n",
    "        print(garage.toString()) # this will print the description of the parked vehicle\n",
    "        \n",
    "#create instances of Truck and Garage\n",
    "vehicle1 = Truck('Black', False)\n",
    "garage = Garage()\n",
    "\n",
    "      \n",
    "        \n",
    "GarageTester.getExample(garage)\n",
    "        \n",
    "        "
   ]
  },
  {
   "cell_type": "code",
   "execution_count": 159,
   "metadata": {},
   "outputs": [],
   "source": [
    "class Customer:\n",
    "    def __init__(self, name, address):\n",
    "        self.name = name\n",
    "        self.address =address\n",
    "        \n",
    "    def toString(self):\n",
    "        return f\"Customer: {self.name}, Address: {self.address}\""
   ]
  }
 ],
 "metadata": {
  "kernelspec": {
   "display_name": "Python 3",
   "language": "python",
   "name": "python3"
  },
  "language_info": {
   "codemirror_mode": {
    "name": "ipython",
    "version": 3
   },
   "file_extension": ".py",
   "mimetype": "text/x-python",
   "name": "python",
   "nbconvert_exporter": "python",
   "pygments_lexer": "ipython3",
   "version": "3.12.6"
  }
 },
 "nbformat": 4,
 "nbformat_minor": 2
}
